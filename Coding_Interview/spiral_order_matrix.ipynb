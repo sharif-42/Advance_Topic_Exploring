{
 "cells": [
  {
   "cell_type": "code",
   "execution_count": 36,
   "metadata": {},
   "outputs": [
    {
     "name": "stdout",
     "output_type": "stream",
     "text": [
      "1 2 3 4\n",
      "1 2 3 4 8 12 16\n",
      "1 2 3 4 8 12 16 15 14 13\n",
      "1 2 3 4 8 12 16 15 14 13 9 5\n"
     ]
    }
   ],
   "source": [
    "class SpiralOrderMatrix:\n",
    "    \n",
    "    @staticmethod\n",
    "    def make_spiral(matrix):\n",
    "        linear_array = []\n",
    "        m = len(matrix)\n",
    "\n",
    "        # left to right\n",
    "        fst_row = matrix[0]\n",
    "        for element in fst_row:\n",
    "            linear_array.append(element)\n",
    "            \n",
    "        print(*linear_array)\n",
    "        \n",
    "        # Top to bottom\n",
    "        for i in range(1, m):\n",
    "            linear_array.append(matrix[i][m-1])\n",
    "        \n",
    "        print(*linear_array)\n",
    "        \n",
    "        # right to left\n",
    "        for i in range(m, 1, -1):\n",
    "            linear_array.append(matrix[m-1][i-2])\n",
    "        \n",
    "        print(*linear_array)\n",
    "        \n",
    "        # Bottom to Top\n",
    "        for i in range(m-1, 1, -1):\n",
    "            linear_array.append(matrix[i-1][m-4])\n",
    "\n",
    "        print(*linear_array)\n",
    "\n",
    "        \n",
    "            \n",
    "matrix = [\n",
    "    [1, 2, 3,4],\n",
    "    [5, 6, 7, 8],\n",
    "    [9, 10, 11, 12],\n",
    "    [13, 14, 15, 16]\n",
    "]\n",
    "\n",
    "SpiralOrderMatrix.make_spiral(matrix)"
   ]
  },
  {
   "cell_type": "code",
   "execution_count": null,
   "metadata": {},
   "outputs": [],
   "source": []
  }
 ],
 "metadata": {
  "kernelspec": {
   "display_name": "Python 3",
   "language": "python",
   "name": "python3"
  },
  "language_info": {
   "codemirror_mode": {
    "name": "ipython",
    "version": 3
   },
   "file_extension": ".py",
   "mimetype": "text/x-python",
   "name": "python",
   "nbconvert_exporter": "python",
   "pygments_lexer": "ipython3",
   "version": "3.6.9"
  }
 },
 "nbformat": 4,
 "nbformat_minor": 4
}
