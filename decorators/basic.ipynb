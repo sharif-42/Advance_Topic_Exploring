{
 "cells": [
  {
   "cell_type": "markdown",
   "metadata": {},
   "source": [
    "# What are decorators in Python?\n",
    "\n",
    "Python has an interesting feature called decorators to add functionality to an existing code.\n",
    "\n",
    "This is also called __metaprogramming__ as a part of the program tries to modify another part of the program at compile time."
   ]
  },
  {
   "cell_type": "markdown",
   "metadata": {},
   "source": [
    "## Prerequisites for learning decorators\n",
    "We must be comfortable with the fact that, everything in Python (Yes! Even classes), are objects. Names that we define are simply identifiers bound to these objects. Functions are no exceptions, they are objects too (with attributes). Various different names can be bound to the same function object.\n",
    "\n",
    "Here is an example."
   ]
  },
  {
   "cell_type": "code",
   "execution_count": 1,
   "metadata": {},
   "outputs": [
    {
     "name": "stdout",
     "output_type": "stream",
     "text": [
      "Hello\n",
      "Hello\n"
     ]
    }
   ],
   "source": [
    "def first(msg):\n",
    "    print(msg)    \n",
    "\n",
    "first(\"Hello\")\n",
    "\n",
    "second = first\n",
    "second(\"Hello\")"
   ]
  },
  {
   "cell_type": "markdown",
   "metadata": {},
   "source": [
    "When you run the code, both functions first and second gives same output. Here, the names first and second refer to the same function object.\n",
    "\n",
    "Now things start getting weirder.\n",
    "\n",
    "Functions can be passed as arguments to another function.\n",
    "\n",
    "If you have used functions like __map, filter and reduce__ in Python, then you already know about this.\n",
    "\n",
    "**Such function that take other functions as arguments are also called higher order functions. Here is an example of such a function.**\n",
    "\n"
   ]
  },
  {
   "cell_type": "code",
   "execution_count": 4,
   "metadata": {},
   "outputs": [
    {
     "data": {
      "text/plain": [
       "9"
      ]
     },
     "execution_count": 4,
     "metadata": {},
     "output_type": "execute_result"
    }
   ],
   "source": [
    "def inc(x):\n",
    "    return x + 1\n",
    "\n",
    "def dec(x):\n",
    "    return x - 1\n",
    "\n",
    "def operate(func, x):\n",
    "    result = func(x)\n",
    "    return result\n",
    "\n",
    "x=10\n",
    "operate(inc,x)\n",
    "y = 20\n",
    "operate(dec,x)"
   ]
  },
  {
   "cell_type": "code",
   "execution_count": null,
   "metadata": {},
   "outputs": [],
   "source": []
  }
 ],
 "metadata": {
  "kernelspec": {
   "display_name": "Python 3",
   "language": "python",
   "name": "python3"
  },
  "language_info": {
   "codemirror_mode": {
    "name": "ipython",
    "version": 3
   },
   "file_extension": ".py",
   "mimetype": "text/x-python",
   "name": "python",
   "nbconvert_exporter": "python",
   "pygments_lexer": "ipython3",
   "version": "3.6.9"
  }
 },
 "nbformat": 4,
 "nbformat_minor": 4
}
